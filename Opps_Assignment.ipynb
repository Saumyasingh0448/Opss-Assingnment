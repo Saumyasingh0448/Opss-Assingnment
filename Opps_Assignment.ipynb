{
  "nbformat": 4,
  "nbformat_minor": 0,
  "metadata": {
    "colab": {
      "provenance": []
    },
    "kernelspec": {
      "name": "python3",
      "display_name": "Python 3"
    },
    "language_info": {
      "name": "python"
    }
  },
  "cells": [
    {
      "cell_type": "markdown",
      "source": [
        "# **Python OOPs Questions**\n",
        "\n",
        "1. What is Object-Oriented Programming (OOP)?\n",
        "-  Object-Oriented Programming (OOP) is a programming approach that organizes code into objects, which are instances of classes. It focuses on four key principles:\n",
        "\n",
        "Encapsulation: Bundling data and methods into one unit and restricting direct access.\n",
        "Inheritance: Allowing one class to inherit properties and methods from another.\n",
        "Polymorphism: Using a single method in different ways for different objects.\n",
        "Abstraction: Hiding complex details and showing only essential features.\n",
        "\n",
        "2. What is a class in OOP?\n",
        "-  A class in OOP is a blueprint for creating objects. It defines properties (attributes) and behaviors (methods) that the objects will have. Objects are instances of a class.\n",
        "\n",
        "3.  What is an object in OOP?\n",
        "-  An object in OOP is an instance of a class. It represents a real-world entity with its own attributes (data) and methods (functions) defined by the class.\n",
        "\n",
        "4. What is the difference between abstraction and encapsulation?\n",
        "- Abstraction hides implementation details and shows only the essential features, focusing on what an object does.\n",
        "\n",
        "Encapsulation protects data by restricting access and bundling it with methods, focusing on how the object’s data is controlled.\n",
        "\n",
        "5. What are dunder methods in Python?\n",
        "- Dunder methods (short for \"double underscore methods\") in Python are special methods with names that start and end with double underscores (e.g., __init__, __str__).\n",
        "\n",
        "6.  Explain the concept of inheritance in OOPH?\n",
        "- Inheritance in OOP allows one class (child) to inherit properties and methods from another class (parent). It promotes code reuse and establishes a hierarchical relationship between classes.\n",
        "\n",
        "7.  What is polymorphism in OOP?\n",
        "- Polymorphism in OOP means the ability of different objects to respond to the same method in their own way, making code more flexible and reusable.\n",
        "\n",
        "8. How is encapsulation achieved in Python?\n",
        "- Encapsulation in Python is achieved by restricting access to an object's data using private variables and providing controlled access through methods.\n",
        "\n",
        "Prefix attributes with __ (double underscore) to make them private.\n",
        "Use getter and setter methods to access or modify private data.\n",
        "\n",
        "9. What is a constructor in Python?\n",
        "- A constructor in Python is a special method called __init__() that automatically runs when an object is created. It initializes the object’s attributes.\n",
        "\n",
        "10. What are class and static methods in Python?\n",
        "- 1. Class and Static Methods:\n",
        "\n",
        "Class Method: Works with the class, not instances. Uses @classmethod and takes cls as the first argument.\n",
        "Static Method: Independent of class/instance. Uses @staticmethod and doesn't take self or cls.\n",
        "\n",
        "11. What is method overloading in Python?\n",
        "-  Method Overloading:\n",
        "\n",
        "Defining multiple methods with the same name but different parameters. Python handles this with default arguments.\n",
        "\n",
        "12. What is method overriding in OOP?\n",
        "- Method Overriding:\n",
        "\n",
        "In inheritance, a child class redefines a method from the parent class to provide its own implementation.\n",
        "\n",
        "13. What is a property decorator in Python?\n",
        "- Property Decorator:\n",
        "\n",
        "@property makes a method act like an attribute, allowing access without parentheses.\n",
        "\n",
        "14. Why is polymorphism important in OOP?\n",
        "- Importance of Polymorphism:\n",
        "\n",
        "Allows the same method to work with different objects, making the code more flexible and reusable.\n",
        "\n",
        "15. What is an abstract class in Python?\n",
        "- An abstract class in Python is a blueprint for other classes. It cannot be instantiated directly and may contain one or more abstract methods — methods that are declared but have no implementation in the abstract class.\n",
        "\n",
        "16. What are the advantages of OOP?\n",
        "- Advantages of OOP:\n",
        "\n",
        " Modularity: Organizes code into classes, making it easier to manage.\n",
        " Reusability: Inheritance reduces code duplication.\n",
        " Encapsulation: Protects data by controlling access.\n",
        " Abstraction: Hides complex details, showing only what’s needed.\n",
        " Polymorphism: Enables flexibility by allowing the same interface for different objects.\n",
        " Maintainability: Simplifies updates and debugging.\n",
        " Scalability: Supports building complex, reusable code structures.\n",
        "\n",
        "17. What is the difference between a class variable and an instance variable?\n",
        "- Class Variable: Shared by all instances of the class. Defined at the class level and accessed through the class or instances.\n",
        "Instance Variable: Unique to each instance (object) of the class. Defined inside the __init__ method and accessed through the instance.\n",
        "\n",
        "\n",
        "18.  What is multiple inheritance in Python?\n",
        "- Multiple inheritance in Python is a feature that allows a class to inherit attributes and methods from more than one parent class. This enables a child class to combine functionalities from multiple base classes. It is implemented by specifying multiple parent classes in parentheses during class definition.\n",
        "\n",
        "19. Explain the purpose of ‘’__str__’ and ‘__repr__’ ‘ methods in Python?\n",
        "- The __str__ and __repr__ methods in Python are special methods used to define how objects are represented as strings.\n",
        "\n",
        "__str__ (str() function or print() output)\n",
        "\n",
        "Used for a user-friendly, readable string representation of an object.\n",
        "Should be easy to understand.\n",
        "\n",
        "\n",
        "20.  What is the significance of the ‘super()’ function in Python?\n",
        "- The super() function in Python is used to call a method from a parent (or superclass) within a child class. It is commonly used in inheritance to avoid explicitly naming the parent class, making the code more maintainable and supporting multiple inheritance.\n",
        "\n",
        "Key Uses of super():\n",
        "Access parent class methods without directly specifying the parent class name.\n",
        "Avoid redundant code by reusing parent class functionality.\n",
        "Supports multiple inheritance by following the Method Resolution Order (MRO).\n",
        "\n",
        "21. What is the significance of the __del__ method in Python?\n",
        "- The __del__ method in Python is a special method, also known as a destructor, that is called when an object is about to be destroyed. It is used to release resources, such as closing files or network connections, before the object is garbage collected.\n",
        "\n",
        "Key Points:\n",
        "Called automatically when an object is deleted or goes out of scope.\n",
        "Helps in cleanup operations like closing files, releasing memory, or disconnecting from a database.\n",
        "Not always reliable because garbage collection timing varies.\n",
        "\n",
        "22. What is the difference between @staticmethod and @classmethod in Python?\n",
        "- @staticmethod\n",
        "\n",
        "Does not take self (instance) or cls (class) as parameters.\n",
        "Cannot modify instance or class attributes.\n",
        "Used for independent utility methods inside a class.\n",
        "@classmethod\n",
        "\n",
        "Takes cls (class reference) as the first parameter.\n",
        "Can modify class attributes but not instance attributes.\n",
        "Used when a method needs to interact with class-level data.\n",
        "\n",
        "23. How does polymorphism work in Python with inheritance?\n",
        "- Polymorphism allows different classes to have methods with the same name, enabling objects to be treated interchangeably. In inheritance, it enables a child class to override or extend the behavior of a parent class.\n",
        "\n",
        "24. What is method chaining in Python OOP?\n",
        "- Method chaining is a technique in object-oriented programming where multiple methods are called on the same object in a single statement. It is achieved by having each method return self (the instance), allowing subsequent method calls.\n",
        "\n",
        "25. What is the purpose of the __call__ method in Python?\n",
        "- The __call__ method allows an instance of a class to be called like a function. This makes objects behave like callable functions.\n",
        "\n",
        "Key Points:\n",
        "Defined using def __call__(self, *args, **kwargs).\n",
        "Allows objects to be invoked directly using parentheses ().\n",
        "Useful for creating function-like objects or custom decorators.\n",
        "\n",
        "\n"
      ],
      "metadata": {
        "id": "NVvOGAPE82-m"
      }
    },
    {
      "cell_type": "markdown",
      "source": [
        "# **#Practical Questions**\n",
        "\n",
        "1. Create a parent class Animal with a method speak() that prints a generic message. Create a child class Dog\n",
        "that overrides the speak() method to print \"Bark!\"."
      ],
      "metadata": {
        "id": "nRKWrLU9C_tB"
      }
    },
    {
      "cell_type": "code",
      "source": [
        "\n",
        "class Animal:\n",
        "    def speak(self):\n",
        "        print(\"This animal makes a sound.\")\n",
        "\n",
        "class Dog(Animal):\n",
        "    def speak(self):\n",
        "        print(\"Bark!\")\n",
        "\n",
        "dog = Dog()\n",
        "dog.speak()\n"
      ],
      "metadata": {
        "colab": {
          "base_uri": "https://localhost:8080/"
        },
        "id": "T_Yjwe1dDMcl",
        "outputId": "ef5aa222-97b4-4b2d-f71c-b51e5ecffed2"
      },
      "execution_count": 1,
      "outputs": [
        {
          "output_type": "stream",
          "name": "stdout",
          "text": [
            "Bark!\n"
          ]
        }
      ]
    },
    {
      "cell_type": "markdown",
      "source": [
        "2. Write a program to create an abstract class Shape with a method area(). Derive classes Circle and Rectangle\n",
        "from it and implement the area() method in both."
      ],
      "metadata": {
        "id": "qFAI6CKTDYXP"
      }
    },
    {
      "cell_type": "code",
      "source": [
        "\n",
        "from abc import ABC, abstractmethod\n",
        "import math\n",
        "class Shape(ABC):\n",
        "    @abstractmethod\n",
        "    def area(self):\n",
        "        pass\n",
        "class Circle(Shape):\n",
        "    def __init__(self, radius):\n",
        "        self.radius = radius\n",
        "\n",
        "    def area(self):\n",
        "        return math.pi * self.radius ** 2\n",
        "\n",
        "class Rectangle(Shape):\n",
        "    def __init__(self, length, width):\n",
        "        self.length = length\n",
        "        self.width = width\n",
        "\n",
        "    def area(self):\n",
        "        return self.l\n"
      ],
      "metadata": {
        "id": "SSajKD5hDP6y"
      },
      "execution_count": 2,
      "outputs": []
    },
    {
      "cell_type": "code",
      "source": [],
      "metadata": {
        "id": "Px6GG4W7DjR1"
      },
      "execution_count": null,
      "outputs": []
    },
    {
      "cell_type": "markdown",
      "source": [
        "3. Implement a multi-level inheritance scenario where a class Vehicle has an attribute type. Derive a class Car\n",
        "and further derive a class ElectricCar that adds a battery attribute.**bold text**"
      ],
      "metadata": {
        "id": "lgJToeQVDkSa"
      }
    },
    {
      "cell_type": "code",
      "source": [
        "# Base class\n",
        "class Vehicle:\n",
        "    def __init__(self, vehicle_type):\n",
        "        self.vehicle_type = vehicle_type\n",
        "\n",
        "    def show_type(self):\n",
        "        print(f\"Vehicle Type: {self.vehicle_type}\")\n",
        "class Car(Vehicle):\n",
        "    def __init__(self, brand, model, vehicle_type=\"Car\"):\n",
        "        super().__init__(vehicle_type)\n",
        "        self.brand = brand\n",
        "        self.model = model\n",
        "\n",
        "\n"
      ],
      "metadata": {
        "id": "mIKQpZKxDqzY"
      },
      "execution_count": 4,
      "outputs": []
    },
    {
      "cell_type": "markdown",
      "source": [
        "4. Demonstrate polymorphism by creating a base class Bird with a method fly(). Create two derived classes\n",
        "Sparrow and Penguin that override the fly() method.\n"
      ],
      "metadata": {
        "id": "iyBFsFiVD2vq"
      }
    },
    {
      "cell_type": "code",
      "source": [
        "\n",
        "class Bird:\n",
        "    def fly(self):\n",
        "        print(\"Some birds can fly.\")\n",
        "class Sparrow(Bird):\n",
        "    def fly(self):\n",
        "        print(\"Sparrow flies high in the sky.\")\n",
        "class Penguin(Bird):\n",
        "    def fly(self):\n",
        "        print(\"Penguins cannot fly, but they swim well.\")\n",
        "birds = [Sparrow(), Penguin()]\n",
        "\n",
        "for bird in birds:\n",
        "    bird.fly()\n"
      ],
      "metadata": {
        "colab": {
          "base_uri": "https://localhost:8080/"
        },
        "id": "SupknTjODtyT",
        "outputId": "decb62e0-37fa-4d01-b33d-a182e5744086"
      },
      "execution_count": 5,
      "outputs": [
        {
          "output_type": "stream",
          "name": "stdout",
          "text": [
            "Sparrow flies high in the sky.\n",
            "Penguins cannot fly, but they swim well.\n"
          ]
        }
      ]
    },
    {
      "cell_type": "markdown",
      "source": [
        "5.  Write a program to demonstrate encapsulation by creating a class BankAccount with private attributes\n",
        "balance and methods to deposit, withdraw, and check balance."
      ],
      "metadata": {
        "id": "3Wi0_3uGEQES"
      }
    },
    {
      "cell_type": "code",
      "source": [
        "class BankAccount:\n",
        "    def __init__(self, initial_balance=0):\n",
        "        self.__balance = initial_balance\n",
        "\n",
        "    def deposit(self, amount):\n",
        "        if amount > 0:\n",
        "            self.__balance += amount\n",
        "            print(f\"Deposited: ${amount}\")\n",
        "        else:\n",
        "            print(\"Invalid deposit amount.\")\n",
        "\n",
        "    def withdraw(self, amount):\n",
        "        if 0 < amount <= self.__balance:\n",
        "            self.__balance -= amount\n",
        "            print(f\"Withdrawn: ${amount}\")\n",
        "        else:\n",
        "            print(\"Insufficient balance or invalid amount.\")\n",
        "\n",
        "    def get_balance(self):\n",
        "        return f\"Current Balance: ${self.__balance}\"\n",
        "account = BankAccount(500)\n",
        "account.deposit(200)\n",
        "account.withdraw(100)\n",
        "print(account.get_balance())\n"
      ],
      "metadata": {
        "colab": {
          "base_uri": "https://localhost:8080/"
        },
        "id": "5L9uLYUlEDzw",
        "outputId": "cd5e9f4c-5c16-4203-c2b0-9d8734f1ac4c"
      },
      "execution_count": 6,
      "outputs": [
        {
          "output_type": "stream",
          "name": "stdout",
          "text": [
            "Deposited: $200\n",
            "Withdrawn: $100\n",
            "Current Balance: $600\n"
          ]
        }
      ]
    },
    {
      "cell_type": "markdown",
      "source": [
        "6.  Demonstrate runtime polymorphism using a method play() in a base class Instrument. Derive classes Guitar\n",
        "and Piano that implement their own version of play()."
      ],
      "metadata": {
        "id": "BIADhbdWEdBu"
      }
    },
    {
      "cell_type": "code",
      "source": [
        "\n",
        "class Instrument:\n",
        "    def play(self):\n",
        "        print(\"Playing an instrument.\")\n",
        "\n",
        "class Guitar(Instrument):\n",
        "    def play(self):\n",
        "        print(\"Strumming the guitar.\")\n",
        "class Piano(Instrument):\n",
        "    def play(self):\n",
        "        print(\"Playing the piano keys.\")\n",
        "\n",
        "instruments = [Guitar(), Piano()]\n",
        "\n",
        "for instrument in instruments:\n",
        "    instrument.play()\n"
      ],
      "metadata": {
        "colab": {
          "base_uri": "https://localhost:8080/"
        },
        "id": "w4NvoJ6jEcLa",
        "outputId": "23d588af-c5ee-4037-a87c-73b24b4047af"
      },
      "execution_count": 7,
      "outputs": [
        {
          "output_type": "stream",
          "name": "stdout",
          "text": [
            "Strumming the guitar.\n",
            "Playing the piano keys.\n"
          ]
        }
      ]
    },
    {
      "cell_type": "markdown",
      "source": [
        "7.  Create a class MathOperations with a class method add_numbers() to add two numbers and a static\n",
        "method subtract_numbers() to subtract two numbers."
      ],
      "metadata": {
        "id": "HS_fQ8hpEoiX"
      }
    },
    {
      "cell_type": "code",
      "source": [
        "class MathOperations:\n",
        "    @classmethod\n",
        "    def add_numbers(cls, a, b):\n",
        "        return a + b  # Class method for addition\n",
        "\n",
        "    @staticmethod\n",
        "    def subtract_numbers(a, b):\n",
        "        return a - b  # Static method for subtraction\n",
        "\n",
        "# Using class method\n",
        "print(\"Sum:\", MathOperations.add_numbers(10, 5))  # Output: Sum: 15\n",
        "\n",
        "# Using static method\n",
        "print(\"Difference:\", MathOperations.subtract_numbers(10, 5))  # Output: Difference: 5\n"
      ],
      "metadata": {
        "colab": {
          "base_uri": "https://localhost:8080/"
        },
        "id": "ap-ebFRFEnnF",
        "outputId": "67ebf2d7-bccf-45d1-bee5-ef9bedb0957e"
      },
      "execution_count": 8,
      "outputs": [
        {
          "output_type": "stream",
          "name": "stdout",
          "text": [
            "Sum: 15\n",
            "Difference: 5\n"
          ]
        }
      ]
    },
    {
      "cell_type": "markdown",
      "source": [
        "8.  Implement a class Person with a class method to count the total number of persons created"
      ],
      "metadata": {
        "id": "NhEWE2l2EwP7"
      }
    },
    {
      "cell_type": "code",
      "source": [
        "class Person:\n",
        "    count = 0\n",
        "\n",
        "    def __init__(self, name):\n",
        "        self.name = name\n",
        "        Person.count += 1\n",
        "\n",
        "    @classmethod\n",
        "    def get_count(cls):\n",
        "        return f\"Total Persons Created: {cls.count}\"\n",
        "\n",
        "\n",
        "p1 = Person(\"Alice\")\n",
        "p2 = Person(\"Bob\")\n",
        "p3 = Person(\"Charlie\")\n",
        "\n",
        "print(Person.get_count())\n"
      ],
      "metadata": {
        "colab": {
          "base_uri": "https://localhost:8080/"
        },
        "id": "QZw1aWxCEvgU",
        "outputId": "29b8bb29-3ba7-4f62-ff95-967c9af5fc5d"
      },
      "execution_count": 9,
      "outputs": [
        {
          "output_type": "stream",
          "name": "stdout",
          "text": [
            "Total Persons Created: 3\n"
          ]
        }
      ]
    },
    {
      "cell_type": "markdown",
      "source": [
        "9.  Write a class Fraction with attributes numerator and denominator. Override the str method to display the\n",
        "fraction as \"numerator/denominator\"."
      ],
      "metadata": {
        "id": "Cy0KrXPPFAaG"
      }
    },
    {
      "cell_type": "code",
      "source": [
        "class Fraction:\n",
        "    def __init__(self, numerator, denominator):\n",
        "        if denominator == 0:\n",
        "            raise ValueError(\"Denominator cannot be zero.\")\n",
        "        self.numerator = numerator\n",
        "        self.denominator = denominator\n",
        "\n",
        "    def __str__(self):\n",
        "        return f\"{self.numerator}/{self.denominator}\"\n",
        "frac1 = Fraction(3, 4)\n",
        "frac2 = Fraction(5, 8)\n",
        "print(frac1)\n",
        "print(frac2)\n"
      ],
      "metadata": {
        "colab": {
          "base_uri": "https://localhost:8080/"
        },
        "id": "T5vVh8GlE8fD",
        "outputId": "ea2ce1bd-310e-426c-84f2-0f698e21cc33"
      },
      "execution_count": 10,
      "outputs": [
        {
          "output_type": "stream",
          "name": "stdout",
          "text": [
            "3/4\n",
            "5/8\n"
          ]
        }
      ]
    },
    {
      "cell_type": "markdown",
      "source": [
        "10.  Demonstrate operator overloading by creating a class Vector and overriding the add method to add two\n",
        "vectors."
      ],
      "metadata": {
        "id": "8bhrPJzfFMWx"
      }
    },
    {
      "cell_type": "code",
      "source": [
        "class Vector:\n",
        "    def __init__(self, x, y):\n",
        "        self.x = x\n",
        "        self.y = y\n",
        "\n",
        "    def __add__(self, other):\n",
        "        if not isinstance(other, Vector):\n",
        "            raise TypeError(\"Operand must be an instance of Vector\")\n",
        "        return Vector(self.x + other.x, self.y + other.y)\n",
        "\n",
        "    def __str__(self):\n",
        "        return f\"({self.x}, {self.y})\"\n",
        "v1 = Vector(2, 3)\n",
        "v2 = Vector(4, 5)\n",
        "v3 = v1 + v2\n",
        "print(\"Vector 1:\", v1)\n",
        "print(\"Vector 2:\", v2)\n",
        "print(\"Sum:\", v3)\n"
      ],
      "metadata": {
        "id": "R6oSfPZ6FLam"
      },
      "execution_count": null,
      "outputs": []
    },
    {
      "cell_type": "markdown",
      "source": [
        "11.  Create a class Person with attributes name and age. Add a method greet() that prints \"Hello, my name is\n",
        "{name} and I am {age} years old."
      ],
      "metadata": {
        "id": "WKQ8FkL_Fkud"
      }
    },
    {
      "cell_type": "code",
      "source": [
        "class Person:\n",
        "    def __init__(self, name, age):\n",
        "        self.name = name\n",
        "        self.age = age\n",
        "\n",
        "    def greet(self):\n",
        "        print(f\"Hello, my name is {self.name} and I am {self.age} years old.\")\n",
        "\n",
        "person1 = Person(\"Alice\", 25)\n",
        "person1.greet()\n",
        "\n"
      ],
      "metadata": {
        "colab": {
          "base_uri": "https://localhost:8080/"
        },
        "id": "zuuxSRMsFrBM",
        "outputId": "96922062-bdd8-42cf-b85b-409e6c1e4aa5"
      },
      "execution_count": 11,
      "outputs": [
        {
          "output_type": "stream",
          "name": "stdout",
          "text": [
            "Hello, my name is Alice and I am 25 years old.\n"
          ]
        }
      ]
    },
    {
      "cell_type": "code",
      "source": [
        "12.  Implement a class Student with attributes name and grades. Create a method average_grade() to compute\n",
        "the average of the grades."
      ],
      "metadata": {
        "id": "-hs19GN_Fx9G"
      },
      "execution_count": null,
      "outputs": []
    },
    {
      "cell_type": "code",
      "source": [
        "class Student:\n",
        "    def __init__(self, name, grades):\n",
        "        self.name = name\n",
        "        self.grades = grades\n",
        "\n",
        "    def average_grade(self):\n",
        "        if not self.grades:\n",
        "            return 0\n",
        "        return sum(self.grades) / len(self.grades)\n",
        "student1 = Student(\"Alice\", [85, 90, 78, 92])\n",
        "\n",
        "\n",
        "print(f\"{student1.name}'s Average Grade: {student1.average_grade():.2f}\")\n"
      ],
      "metadata": {
        "colab": {
          "base_uri": "https://localhost:8080/"
        },
        "id": "AktTSmgKFr3o",
        "outputId": "09722fd5-0810-4569-b228-343fe7b12641"
      },
      "execution_count": 12,
      "outputs": [
        {
          "output_type": "stream",
          "name": "stdout",
          "text": [
            "Alice's Average Grade: 86.25\n"
          ]
        }
      ]
    },
    {
      "cell_type": "markdown",
      "source": [
        "13.  Create a class Rectangle with methods set_dimensions() to set the dimensions and area() to calculate the\n",
        "area."
      ],
      "metadata": {
        "id": "mCklkfaYF8IT"
      }
    },
    {
      "cell_type": "code",
      "source": [
        "class Rectangle:\n",
        "    def __init__(self, length=0, width=0):\n",
        "        self.length = length\n",
        "        self.width = width\n",
        "\n",
        "    def set_dimensions(self, length, width):\n",
        "        self.length = length\n",
        "        self.width = width\n",
        "\n",
        "    def area(self):\n",
        "        return self.length * self.width\n",
        "rect = Rectangle()\n",
        "\n",
        "rect.set_dimensions(5, 10)\n",
        "print(f\"Rectangle Area: {rect.area()}\")\n"
      ],
      "metadata": {
        "colab": {
          "base_uri": "https://localhost:8080/"
        },
        "id": "jmF_rJVkF7OP",
        "outputId": "d074e98d-255d-40a1-9f3b-6a1f2aa4fa1e"
      },
      "execution_count": 13,
      "outputs": [
        {
          "output_type": "stream",
          "name": "stdout",
          "text": [
            "Rectangle Area: 50\n"
          ]
        }
      ]
    },
    {
      "cell_type": "markdown",
      "source": [
        "14. Create a class Employee with a method calculate_salary() that computes the salary based on hours worked\n",
        "and hourly rate. Create a derived class Manager that adds a bonus to the salary."
      ],
      "metadata": {
        "id": "l-TDDx3uGJBj"
      }
    },
    {
      "cell_type": "code",
      "source": [
        "class Employee:\n",
        "    def __init__(self, name, hours_worked, hourly_rate):\n",
        "        self.name = name\n",
        "        self.hours_worked = hours_worked\n",
        "        self.hourly_rate = hourly_rate\n",
        "\n",
        "    def calculate_salary(self):\n",
        "        return self.hours_worked * self.hourly_rate\n",
        "class Manager(Employee):\n",
        "    def __init__(self, name, hours_worked, hourly_rate, bonus):\n",
        "        super().__init__(name, hours_worked, hourly_rate)\n",
        "        self.bonus = bonus\n",
        "\n",
        "    def calculate_salary(self):\n",
        "        return super().calculate_salary() + self.bonus\n",
        "emp = Employee(\"John\", 40, 20)\n",
        "print(f\"{emp.name}'s Salary: ${emp.calculate_salary()}\")\n"
      ],
      "metadata": {
        "colab": {
          "base_uri": "https://localhost:8080/"
        },
        "id": "L3pPfc8-GIO4",
        "outputId": "29edc16e-a62d-41f4-a0a5-9e243374bec7"
      },
      "execution_count": 14,
      "outputs": [
        {
          "output_type": "stream",
          "name": "stdout",
          "text": [
            "John's Salary: $800\n"
          ]
        }
      ]
    },
    {
      "cell_type": "markdown",
      "source": [
        "15.  Create a class Product with attributes name, price, and quantity. Implement a method total_price() that\n",
        "calculates the total price of the product"
      ],
      "metadata": {
        "id": "90crfNzJGYYf"
      }
    },
    {
      "cell_type": "code",
      "source": [
        "class Product:\n",
        "    def __init__(self, name, price, quantity):\n",
        "        self.name = name\n",
        "        self.price = price\n",
        "        self.quantity = quantity\n",
        "\n",
        "    def total_price(self):\n",
        "        return self.price * self.quantity\n",
        "product1 = Product(\"Laptop\", 800, 2)\n",
        "print(f\"Total price of {product1.quantity} {product1.name}(s): ${product1.total_price()}\")\n",
        "\n"
      ],
      "metadata": {
        "colab": {
          "base_uri": "https://localhost:8080/"
        },
        "id": "bdgzlF9DGPSx",
        "outputId": "25a2e509-d33e-4eea-9a4a-97482c00c0fe"
      },
      "execution_count": 15,
      "outputs": [
        {
          "output_type": "stream",
          "name": "stdout",
          "text": [
            "Total price of 2 Laptop(s): $1600\n"
          ]
        }
      ]
    },
    {
      "cell_type": "markdown",
      "source": [
        "16. Create a class Animal with an abstract method sound(). Create two derived classes Cow and Sheep that\n",
        "implement the sound() method."
      ],
      "metadata": {
        "id": "xI94kFFIGgmP"
      }
    },
    {
      "cell_type": "code",
      "source": [
        "from abc import ABC, abstractmethod\n",
        "class Animal(ABC):\n",
        "    @abstractmethod\n",
        "    def sound(self):\n",
        "        pass\n",
        "class Cow(Animal):\n",
        "    def sound(self):\n",
        "        return \"Moo\"\n",
        "\n",
        "class Sheep(Animal):\n",
        "    def sound(self):\n",
        "        return \"Baa\"\n",
        "\n",
        "cow = Cow()\n",
        "sheep = Sheep()\n",
        "\n",
        "print(f\"Cow sound: {cow.sound()}\")\n",
        "print(f\"Sheep sound: {sheep.sound()}\")\n"
      ],
      "metadata": {
        "colab": {
          "base_uri": "https://localhost:8080/"
        },
        "id": "GQ-9MA1WGf5p",
        "outputId": "c082721f-161d-4661-c9b7-38b24cd32712"
      },
      "execution_count": 16,
      "outputs": [
        {
          "output_type": "stream",
          "name": "stdout",
          "text": [
            "Cow sound: Moo\n",
            "Sheep sound: Baa\n"
          ]
        }
      ]
    },
    {
      "cell_type": "markdown",
      "source": [
        "17.  Create a class Book with attributes title, author, and year_published. Add a method get_book_info() that\n",
        "returns a formatted string with the book's details."
      ],
      "metadata": {
        "id": "21FfDM7ZGvxD"
      }
    },
    {
      "cell_type": "code",
      "source": [
        "class Book:\n",
        "    def __init__(self, title, author, year_published):\n",
        "        self.title = title\n",
        "        self.author = author\n",
        "        self.year_published = year_published\n",
        "\n",
        "    def get_book_info(self):\n",
        "        return f\"'{self.title}' by {self.author}, published in {self.year_published}.\"\n",
        "book1 = Book(\"To Kill a Mockingbird\", \"Harper Lee\", 1960)\n",
        "print(book1.get_book_info())\n"
      ],
      "metadata": {
        "colab": {
          "base_uri": "https://localhost:8080/"
        },
        "id": "ULbTRrF5GtLP",
        "outputId": "1050063b-2150-40c5-9eaa-36c3e28360d3"
      },
      "execution_count": 17,
      "outputs": [
        {
          "output_type": "stream",
          "name": "stdout",
          "text": [
            "'To Kill a Mockingbird' by Harper Lee, published in 1960.\n"
          ]
        }
      ]
    },
    {
      "cell_type": "markdown",
      "source": [
        "18. Create a class House with attributes address and price. Create a derived class Mansion that adds an\n",
        "attribute number_of_rooms."
      ],
      "metadata": {
        "id": "XJACJYuAG6Pw"
      }
    },
    {
      "cell_type": "code",
      "source": [
        "class House:\n",
        "    def __init__(self, address, price):\n",
        "        self.address = address\n",
        "        self.price = price\n",
        "\n",
        "    def get_info(self):\n",
        "        return f\"Address: {self.address}, Price: ${self.price}\"\n",
        "class Mansion(House):\n",
        "    def __init__(self, address, price, number_of_rooms):\n",
        "        super().__init__(address, price)\n",
        "        self.number_of_rooms = number_of_rooms\n",
        "\n",
        "    def get_info(self):\n",
        "        return f\"{super().get_info()}, Rooms: {self.number_of_rooms}\"\n",
        "house = House(\"123 Main St\", 250000)\n",
        "print(house.get_info())\n",
        "mansion = Mansion(\"456 Luxury Ln\", 2000000, 10)\n",
        "print(mansion.get_info())"
      ],
      "metadata": {
        "colab": {
          "base_uri": "https://localhost:8080/"
        },
        "id": "yaNsI6GXG3vl",
        "outputId": "ce7e1581-3d4a-4790-f548-90bc686614cd"
      },
      "execution_count": 18,
      "outputs": [
        {
          "output_type": "stream",
          "name": "stdout",
          "text": [
            "Address: 123 Main St, Price: $250000\n",
            "Address: 456 Luxury Ln, Price: $2000000, Rooms: 10\n"
          ]
        }
      ]
    },
    {
      "cell_type": "code",
      "source": [],
      "metadata": {
        "id": "NjoEDs46HDhV"
      },
      "execution_count": null,
      "outputs": []
    }
  ]
}